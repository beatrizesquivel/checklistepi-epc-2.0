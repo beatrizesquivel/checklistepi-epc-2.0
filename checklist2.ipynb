{
  "nbformat": 4,
  "nbformat_minor": 0,
  "metadata": {
    "colab": {
      "provenance": [],
      "authorship_tag": "ABX9TyO6emtLjCvrJTZvyCo02RVQ",
      "include_colab_link": true
    },
    "kernelspec": {
      "name": "python3",
      "display_name": "Python 3"
    },
    "language_info": {
      "name": "python"
    }
  },
  "cells": [
    {
      "cell_type": "markdown",
      "metadata": {
        "id": "view-in-github",
        "colab_type": "text"
      },
      "source": [
        "<a href=\"https://colab.research.google.com/github/beatrizesquivel/checklistepi-epc-2.0/blob/main/checklist2.ipynb\" target=\"_parent\"><img src=\"https://colab.research.google.com/assets/colab-badge.svg\" alt=\"Open In Colab\"/></a>"
      ]
    },
    {
      "cell_type": "code",
      "execution_count": null,
      "metadata": {
        "colab": {
          "base_uri": "https://localhost:8080/"
        },
        "id": "hPvaJEZJsSLI",
        "outputId": "dccd597e-5446-4dcd-ff76-e1d631bcc295"
      },
      "outputs": [
        {
          "output_type": "stream",
          "name": "stdout",
          "text": [
            "=== CHECKLIST EPIs e EPCs ===\n"
          ]
        }
      ],
      "source": [
        "from datetime import datetime\n",
        "\n",
        "# Classe que representa uma atividade e seus EPIs e EPCs\n",
        "class Atividade:\n",
        "    def __init__(self, nome, epis, epcs):\n",
        "        self.nome = nome\n",
        "        self.epis = epis\n",
        "        self.epcs = epcs\n",
        "\n",
        "    def exibir_epis(self):\n",
        "        print(\"\\n--- EPIs ---\")\n",
        "        for epi in self.epis:\n",
        "            print(f\"- {epi}\")\n",
        "\n",
        "    def exibir_epcs(self):\n",
        "        print(\"\\n--- EPCs ---\")\n",
        "        for epc in self.epcs:\n",
        "            print(f\"- {epc}\")\n",
        "\n",
        "# Classe que representa uma etapa da obra com as atividades possíveis\n",
        "class EtapaObra:\n",
        "    def __init__(self, nome, atividades):\n",
        "        self.nome = nome\n",
        "        self.atividades = atividades\n",
        "\n",
        "    def listar_atividades(self):\n",
        "        print(f\"\\nAtividades possíveis na etapa '{self.nome}':\")\n",
        "        for atividade in self.atividades:\n",
        "            print(f\"- {atividade}\")\n",
        "\n",
        "# Classe principal com banco de dados de atividades e etapas\n",
        "class ObraSeguranca:\n",
        "    def __init__(self):\n",
        "        self.dados_atividades = self._carregar_atividades()\n",
        "        self.etapas = self._carregar_etapas()\n",
        "\n",
        "    def _carregar_atividades(self):\n",
        "        return {\n",
        "            \"carpinteiro\": Atividade(\"Carpinteiro\", [\"👷‍♂🔨\", \"Capacete\", \"Cinto\", \"Botina aço\", \"Luvas\", \"Óculos\"], [\"Linha vida\", \"Rede\", \"Sinalização risco\"]),\n",
        "            \"pedreiro\": Atividade(\"Pedreiro\", [\"🚧\", \"Capacete\", \"Botina aço\", \"Luvas\", \"Óculos\"], [\"Barreiras\", \"Sinalização\"]),\n",
        "            \"eletricista\": Atividade(\"Eletricista\", [\"👷💡\", \"Luvas isolantes\", \"Botina dielétrica\", \"Capacete facial\", \"Óculos\"], [\"Bloqueio\", \"Desenergização\", \"Sinalização área\"]),\n",
        "            \"soldador\": Atividade(\"Soldador\", [\"👨‍🏭\", \"Máscara de solda\", \"Luvas raspa\", \"Botina\", \"Avental raspa\"], [\"Ventilação\", \"Sinalização área\", \"Organização cabos\"]),\n",
        "            \"armador\": Atividade(\"Armador\", [\"👷‍♂🔩\", \"Capacete\", \"Luvas vaqueta\", \"Botina aço\", \"Óculos\"], [\"Organização\", \"Sinalização\", \"Quedas\"]),\n",
        "            \"encanador\": Atividade(\"Encanador\", [\"👷‍♂🚿\", \"Capacete\", \"Luvas borracha\", \"Botina impermeável\", \"Máscara descartável\", \"Óculos\"], [\"Ventilação\", \"Sinalização\", \"Organização material\"]),\n",
        "            \"pintor\": Atividade(\"Pintor\", [\"🎨\", \"Máscara\", \"Luvas PVC\", \"Óculos\", \"Botina\", \"Macacão\"], [\"Ventilação\", \"Isolamento\", \"Sinalização 'Piso Molhado'\"]),\n",
        "            \"mestre de obras\": Atividade(\"Mestre de Obras\", [\"👷‍♂📋\", \"Capacete\", \"Botina\", \"Óculos\", \"Colete refletivo\"], [\"DDS\", \"Plano Rigging\", \"Plano Emergência\"]),\n",
        "            \"servente\": Atividade(\"Servente\", [\"🧹\", \"Capacete\", \"Botina aço\", \"Luvas\", \"Óculos\"], [\"Caminhos sinalizados\", \"Descarte resíduos\", \"Organização\"]),\n",
        "            \"supervisor de segurança\": Atividade(\"Supervisor de Segurança\", [\"🚨\", \"Capacete\", \"Colete refletivo\", \"Botina\", \"Óculos\"], [\"APR\", \"Procedimentos emergência\", \"Treinamentos\"]),\n",
        "        }\n",
        "\n",
        "    def _carregar_etapas(self):\n",
        "        return {\n",
        "            \"fundação\": EtapaObra(\"Fundação\", [\"pedreiro\", \"armador\", \"servente\"]),\n",
        "            \"estrutura\": EtapaObra(\"Estrutura\", [\"carpinteiro\", \"armador\", \"soldador\", \"servente\"]),\n",
        "            \"instalações\": EtapaObra(\"Instalações\", [\"eletricista\", \"encanador\", \"supervisor de segurança\"]),\n",
        "            \"acabamento\": EtapaObra(\"Acabamento\", [\"pintor\", \"pedreiro\", \"servente\"]),\n",
        "            \"cobertura\": EtapaObra(\"Cobertura\", [\"carpinteiro\", \"soldador\", \"mestre de obras\"])\n",
        "        }\n",
        "\n",
        "    def buscar_atividade(self, nome_atividade):\n",
        "        nome_atividade = nome_atividade.lower().strip()\n",
        "        return self.dados_atividades.get(nome_atividade, None)\n",
        "\n",
        "    def buscar_etapa(self, nome_etapa):\n",
        "        nome_etapa = nome_etapa.lower().strip()\n",
        "        return self.etapas.get(nome_etapa, None)\n",
        "\n",
        "def salvar_historico(nome_usuario, etapa, atividade):\n",
        "    agora = datetime.now()\n",
        "    data_hora = agora.strftime(\"%d/%m/%Y %H:%M:%S\")\n",
        "\n",
        "    with open(\"historico_seguranca.txt\", \"a\", encoding=\"utf-8\") as arquivo:\n",
        "        arquivo.write(f\"\\n===== {data_hora} =====\\n\")\n",
        "        arquivo.write(f\"Usuário: {nome_usuario}\\n\")\n",
        "        arquivo.write(f\"Etapa: {etapa.nome}\\n\")\n",
        "        arquivo.write(f\"Atividade: {atividade.nome}\\n\")\n",
        "        arquivo.write(\"--- EPIs ---\\n\")\n",
        "        for epi in atividade.epis:\n",
        "            arquivo.write(f\"- {epi}\\n\")\n",
        "        arquivo.write(\"--- EPCs ---\\n\")\n",
        "        for epc in atividade.epcs:\n",
        "            arquivo.write(f\"- {epc}\\n\")\n",
        "        arquivo.write(\"=========================\\n\")\n",
        "\n",
        "def main():\n",
        "    print(\"=== CHECKLIST EPIs e EPCs ===\")\n",
        "\n",
        "    obra = ObraSeguranca()\n",
        "\n",
        "    nome_usuario = input(\"Digite seu nome antes de iniciar o checklist: \").strip()\n",
        "    etapa_input = input(\"Em qual etapa da obra você está? (Ex: fundação, estrutura, instalações, acabamento, cobertura): \")\n",
        "    etapa = obra.buscar_etapa(etapa_input)\n",
        "\n",
        "    if etapa:\n",
        "        etapa.listar_atividades()\n",
        "        atividade_input = input(\"Digite a atividade a ser exercida nesta etapa: \").lower().strip()\n",
        "\n",
        "        if atividade_input in etapa.atividades:\n",
        "            atividade = obra.buscar_atividade(atividade_input)\n",
        "            if atividade:\n",
        "                atividade.exibir_epis()\n",
        "                atividade.exibir_epcs()\n",
        "                salvar_historico(nome_usuario, etapa, atividade)\n",
        "            else:\n",
        "                print(\"Atividade não encontrada no banco de dados.\")\n",
        "        else:\n",
        "            print(f\"Atividade '{atividade_input}' não pertence à etapa '{etapa.nome}'.\")\n",
        "    else:\n",
        "        print(f\"Etapa '{etapa_input}' não encontrada. Tente novamente.\")\n",
        "\n",
        "    print(\"\\nSEGURANÇA EM PRIMEIRO LUGAR ⛑\")\n",
        "\n",
        "if __name__ == \"__main__\":\n",
        "    main()"
      ]
    }
  ]
}